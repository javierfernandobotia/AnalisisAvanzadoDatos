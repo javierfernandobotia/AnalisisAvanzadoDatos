{
  "nbformat": 4,
  "nbformat_minor": 0,
  "metadata": {
    "colab": {
      "name": "Deteccion_de_Anomalias.ipynb",
      "provenance": [],
      "authorship_tag": "ABX9TyOdFjaZPKyjkVF8+DI7myhK",
      "include_colab_link": true
    },
    "kernelspec": {
      "name": "python3",
      "display_name": "Python 3"
    },
    "language_info": {
      "name": "python"
    }
  },
  "cells": [
    {
      "cell_type": "markdown",
      "metadata": {
        "id": "view-in-github",
        "colab_type": "text"
      },
      "source": [
        "<a href=\"https://colab.research.google.com/github/javierfernandobotia/AnalisisAvanzadoDatos/blob/main/Deteccion_de_Anomalias.ipynb\" target=\"_parent\"><img src=\"https://colab.research.google.com/assets/colab-badge.svg\" alt=\"Open In Colab\"/></a>"
      ]
    },
    {
      "cell_type": "markdown",
      "source": [
        ""
      ],
      "metadata": {
        "id": "lhwFKNNqeIMv"
      }
    },
    {
      "cell_type": "markdown",
      "source": [
        "**Desarrollado por:** Javier Fernando Botía Valderrama\n",
        "\n",
        "*Docente del Departamento de Ingeniería de Sistemas*\n",
        "\n",
        "**Materia:** Análisis Avanzado de Datos\n",
        "\n",
        "**Departamento:** Ingeniería Aeroespacial"
      ],
      "metadata": {
        "id": "a5GJMSzfdeQD"
      }
    },
    {
      "cell_type": "code",
      "execution_count": null,
      "metadata": {
        "id": "GGHDZmj6b_RU"
      },
      "outputs": [],
      "source": [
        ""
      ]
    }
  ]
}